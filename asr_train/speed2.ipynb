{
 "cells": [
  {
   "cell_type": "code",
   "execution_count": null,
   "id": "32a82b8c-87eb-4c18-94bd-1d2a4eaf3995",
   "metadata": {
    "tags": []
   },
   "outputs": [],
   "source": [
    "from torchaudio import transforms\n",
    "from datasets import DatasetDict\n",
    "import jiwer\n",
    "from jiwer import wer\n",
    "from functools import reduce\n",
    "from pathlib import Path\n",
    "import torchaudio\n",
    "import torch\n",
    "import torch\n",
    "import torch.quantization\n",
    "import torch.nn as nn\n",
    "\n",
    "from transformers import WhisperProcessor, WhisperForConditionalGeneration\n",
    "\n",
    "def predict_audio_from_file(file_path, model):\n",
    " \n",
    "    speech_array, sampling_rate = torchaudio.load(file_path)\n",
    "    \n",
    "    # resample to 16000 hz (required by model)\n",
    "    if sampling_rate != 16000:\n",
    "        transform = transforms.Resample(sampling_rate, 16000)\n",
    "        speech_array = transform(speech_array)\n",
    "        \n",
    "        \n",
    "    sample_audio = DatasetDict({\n",
    "        'array': speech_array.squeeze(0),\n",
    "        'sampling_rate': 16000\n",
    "    })\n",
    "    \n",
    "    input_features = processor(sample_audio[\"array\"], sampling_rate=sample_audio[\"sampling_rate\"], return_tensors=\"pt\").input_features\n",
    "    # input_features = input_features.to(device)\n",
    "    \n",
    "    # generate predicted token ids\n",
    "    predicted_ids = model.generate(input_features)\n",
    "    # decode predicted token ids to text\n",
    "    prediction = processor.batch_decode(predicted_ids, skip_special_tokens=True)[0]\n",
    "    \n",
    "    return prediction"
   ]
  },
  {
   "cell_type": "code",
   "execution_count": null,
   "id": "0c4ce903-3281-4d1d-802a-f84fa7fd889b",
   "metadata": {
    "tags": []
   },
   "outputs": [],
   "source": [
    "from transformers import AutoConfig\n",
    "# load config and dummy model\n",
    "config = AutoConfig.from_pretrained(\"whisper-quantized-config\")\n",
    "dummy_model = WhisperForConditionalGeneration(config)\n",
    "\n",
    "reconstructed_quantized_model = torch.quantization.quantize_dynamic(\n",
    "    dummy_model, {torch.nn.Linear}, dtype=torch.qint8\n",
    ")\n",
    "reconstructed_quantized_model.load_state_dict(torch.load(\"whisper-quantized.pt\"))\n",
    "reconstructed_quantized_model.eval()\n",
    "\n",
    "processor = WhisperProcessor.from_pretrained(\"openai/whisper-small\")"
   ]
  },
  {
   "cell_type": "code",
   "execution_count": 1,
   "id": "dca1f97a-3247-4d6e-82d6-37d221c11ac2",
   "metadata": {
    "tags": []
   },
   "outputs": [
    {
     "name": "stdout",
     "output_type": "stream",
     "text": [
      "/home/jupyter/novice /home/jupyter/til-24-base/asr\n",
      "{'key': [0, 1, 2, 3, 4, 5, 6, 7, 8, 9], 'audio': ['audio_0.wav', 'audio_1.wav', 'audio_2.wav', 'audio_3.wav', 'audio_4.wav', 'audio_5.wav', 'audio_6.wav', 'audio_7.wav', 'audio_8.wav', 'audio_9.wav'], 'transcript': ['Heading is one five zero, target is green commercial aircraft, tool to deploy is electromagnetic pulse.', 'Heading is two six zero, target is black, white, and yellow commercial aircraft, tool to deploy is surface-to-air missiles.', 'Heading is one zero five, target is silver, green, and yellow light aircraft, tool to deploy is anti-air artillery.', 'Heading is two niner zero, target is brown and blue cargo aircraft, tool to deploy is electromagnetic pulse.', 'Heading is zero one five, target is yellow camouflage drone, tool to deploy is EMP.', 'Heading is two seven five, target is purple, orange, and blue cargo aircraft, tool to deploy is interceptor jets.', 'Heading is one seven five, target is black, blue, and grey fighter jet, tool to deploy is machine gun.', 'Heading is three two zero, target is purple and brown cargo aircraft, tool to deploy is surface-to-air missiles.', 'Heading is one zero zero, target is blue, brown, and grey commercial aircraft, tool to deploy is electromagnetic pulse.', 'Heading is one three zero, target is orange and grey missile, tool to deploy is machine gun.']}\n"
     ]
    }
   ],
   "source": [
    "import jsonlines\n",
    "import torchaudio\n",
    "from datasets import Dataset, load_metric, DatasetDict\n",
    "from transformers import Wav2Vec2ForCTC, Wav2Vec2Processor, Trainer, TrainingArguments\n",
    "from pathlib import Path\n",
    "import torch\n",
    "import librosa\n",
    "import IPython.display as ipd\n",
    "import jiwer\n",
    "import base64\n",
    "\n",
    "\n",
    "# Define the path to the directory\n",
    "current_directory = Path.cwd()\n",
    "file_path = current_directory / '..' / '..' / 'novice'\n",
    "data_dir = file_path.resolve()\n",
    "print(data_dir, current_directory)\n",
    "\n",
    "# Read data from a jsonl file and reformat it\n",
    "data = {'key': [], 'audio': [], 'transcript': []}\n",
    "with jsonlines.open(data_dir / \"asr.jsonl\") as reader:\n",
    "    for obj in reader:\n",
    "        if len(data['key']) < 10: \n",
    "            for key, value in obj.items():\n",
    "                data[key].append(value)\n",
    "                \n",
    "print(data)\n",
    "\n",
    "data2 = {\"instances\": []}                \n",
    "for j, i in enumerate(data['key']):\n",
    "    with open(data_dir / 'audio' / data['audio'][j], \"rb\") as file:\n",
    "        audio_bytes = file.read()\n",
    "        instance = {\n",
    "            \"key\": i,\n",
    "            \"b64\": base64.b64encode(audio_bytes).decode(\"ascii\"),\n",
    "            \"transcript\": data['transcript'][j]\n",
    "        }\n",
    "        data2['instances'].append(instance)\n",
    "        \n",
    "\n",
    "# Convert to a Hugging Face dataset\n",
    "dataset = Dataset.from_dict(data2) # converts it into a dataset object which has in-built helper functions to help us later on when we need to do operations on it"
   ]
  },
  {
   "cell_type": "code",
   "execution_count": null,
   "id": "c021ccc7-2df5-47a2-af55-a6a9502e6c9c",
   "metadata": {
    "tags": []
   },
   "outputs": [],
   "source": [
    "from pathlib import Path\n",
    "\n",
    "# Define the path to the directory\n",
    "current_directory = Path.cwd()\n",
    "file_path = current_directory / '..' / '..' / 'novice'\n",
    "data_dir = file_path.resolve()\n",
    "print(data_dir, current_directory)"
   ]
  },
  {
   "cell_type": "code",
   "execution_count": null,
   "id": "dbbdb661-0489-4df9-aef4-5c5b9674191d",
   "metadata": {
    "tags": []
   },
   "outputs": [],
   "source": [
    "import torch\n",
    "import torch.distributed as dist\n",
    "import torch.multiprocessing as mp\n",
    "\n",
    "def run_inference(rank, world_size):\n",
    "    # create default process group\n",
    "    print(rank, world_size)\n",
    "    dist.init_process_group(\"gloo\", rank=rank, world_size=world_size)\n",
    "    \n",
    "    # load a model \n",
    "    model = reconstructed_quantized_model\n",
    "    # model.load_state_dict(PATH)\n",
    "    model.eval()\n",
    "    model.to(rank)\n",
    "\n",
    "    # create a dataloader\n",
    "    loader = torch.utils.data.DataLoader(dataset=dataset,\n",
    "                                               batch_size=batch_size,\n",
    "                                               shuffle=False,\n",
    "                                               num_workers=4)\n",
    "    print(loader)\n",
    "\n",
    "    # iterate over the loaded partition and run the model\n",
    "    for idx, data in enumerate(loader):\n",
    "        print(data)\n",
    "        pass\n",
    "    \n",
    "def main():\n",
    "    world_size = torch.cuda.device_count()\n",
    "    mp.spawn(run_inference,\n",
    "        args=(world_size,),\n",
    "        nprocs=world_size,\n",
    "        join=True)\n",
    "\n",
    "if __name__==\"__main__\":\n",
    "    main()"
   ]
  },
  {
   "cell_type": "code",
   "execution_count": null,
   "id": "6f4206e9-629d-47fa-b157-f989658756ac",
   "metadata": {
    "tags": []
   },
   "outputs": [],
   "source": [
    "!pip install packaging\n",
    "!pip install ninja\n",
    "!pip install flash-attn --no-build-isolation"
   ]
  },
  {
   "cell_type": "code",
   "execution_count": 16,
   "id": "3107ab76-c20a-46d7-93f8-76af34e6d23e",
   "metadata": {
    "tags": []
   },
   "outputs": [
    {
     "name": "stdout",
     "output_type": "stream",
     "text": [
      "Collecting noisereduce\n",
      "  Using cached noisereduce-3.0.2-py3-none-any.whl.metadata (14 kB)\n",
      "Requirement already satisfied: scipy in /opt/conda/envs/pytorch/lib/python3.10/site-packages (from noisereduce) (1.11.4)\n",
      "Requirement already satisfied: matplotlib in /opt/conda/envs/pytorch/lib/python3.10/site-packages (from noisereduce) (3.8.4)\n",
      "Requirement already satisfied: librosa in /opt/conda/envs/pytorch/lib/python3.10/site-packages (from noisereduce) (0.10.2.post1)\n",
      "Requirement already satisfied: numpy in /opt/conda/envs/pytorch/lib/python3.10/site-packages (from noisereduce) (1.26.4)\n",
      "Requirement already satisfied: tqdm in /opt/conda/envs/pytorch/lib/python3.10/site-packages (from noisereduce) (4.66.2)\n",
      "Requirement already satisfied: audioread>=2.1.9 in /opt/conda/envs/pytorch/lib/python3.10/site-packages (from librosa->noisereduce) (3.0.1)\n",
      "Requirement already satisfied: scikit-learn>=0.20.0 in /opt/conda/envs/pytorch/lib/python3.10/site-packages (from librosa->noisereduce) (1.4.2)\n",
      "Requirement already satisfied: joblib>=0.14 in /opt/conda/envs/pytorch/lib/python3.10/site-packages (from librosa->noisereduce) (1.4.0)\n",
      "Requirement already satisfied: decorator>=4.3.0 in /opt/conda/envs/pytorch/lib/python3.10/site-packages (from librosa->noisereduce) (5.1.1)\n",
      "Requirement already satisfied: numba>=0.51.0 in /opt/conda/envs/pytorch/lib/python3.10/site-packages (from librosa->noisereduce) (0.59.1)\n",
      "Requirement already satisfied: soundfile>=0.12.1 in /opt/conda/envs/pytorch/lib/python3.10/site-packages (from librosa->noisereduce) (0.12.1)\n",
      "Requirement already satisfied: pooch>=1.1 in /opt/conda/envs/pytorch/lib/python3.10/site-packages (from librosa->noisereduce) (1.8.1)\n",
      "Requirement already satisfied: soxr>=0.3.2 in /opt/conda/envs/pytorch/lib/python3.10/site-packages (from librosa->noisereduce) (0.3.7)\n",
      "Requirement already satisfied: typing-extensions>=4.1.1 in /opt/conda/envs/pytorch/lib/python3.10/site-packages (from librosa->noisereduce) (4.11.0)\n",
      "Requirement already satisfied: lazy-loader>=0.1 in /opt/conda/envs/pytorch/lib/python3.10/site-packages (from librosa->noisereduce) (0.4)\n",
      "Requirement already satisfied: msgpack>=1.0 in /opt/conda/envs/pytorch/lib/python3.10/site-packages (from librosa->noisereduce) (1.0.8)\n",
      "Requirement already satisfied: contourpy>=1.0.1 in /opt/conda/envs/pytorch/lib/python3.10/site-packages (from matplotlib->noisereduce) (1.2.1)\n",
      "Requirement already satisfied: cycler>=0.10 in /opt/conda/envs/pytorch/lib/python3.10/site-packages (from matplotlib->noisereduce) (0.12.1)\n",
      "Requirement already satisfied: fonttools>=4.22.0 in /opt/conda/envs/pytorch/lib/python3.10/site-packages (from matplotlib->noisereduce) (4.51.0)\n",
      "Requirement already satisfied: kiwisolver>=1.3.1 in /opt/conda/envs/pytorch/lib/python3.10/site-packages (from matplotlib->noisereduce) (1.4.5)\n",
      "Requirement already satisfied: packaging>=20.0 in /opt/conda/envs/pytorch/lib/python3.10/site-packages (from matplotlib->noisereduce) (24.0)\n",
      "Requirement already satisfied: pillow>=8 in /opt/conda/envs/pytorch/lib/python3.10/site-packages (from matplotlib->noisereduce) (10.3.0)\n",
      "Requirement already satisfied: pyparsing>=2.3.1 in /opt/conda/envs/pytorch/lib/python3.10/site-packages (from matplotlib->noisereduce) (3.1.2)\n",
      "Requirement already satisfied: python-dateutil>=2.7 in /opt/conda/envs/pytorch/lib/python3.10/site-packages (from matplotlib->noisereduce) (2.9.0)\n",
      "Requirement already satisfied: llvmlite<0.43,>=0.42.0dev0 in /opt/conda/envs/pytorch/lib/python3.10/site-packages (from numba>=0.51.0->librosa->noisereduce) (0.42.0)\n",
      "Requirement already satisfied: platformdirs>=2.5.0 in /opt/conda/envs/pytorch/lib/python3.10/site-packages (from pooch>=1.1->librosa->noisereduce) (4.2.1)\n",
      "Requirement already satisfied: requests>=2.19.0 in /opt/conda/envs/pytorch/lib/python3.10/site-packages (from pooch>=1.1->librosa->noisereduce) (2.31.0)\n",
      "Requirement already satisfied: six>=1.5 in /opt/conda/envs/pytorch/lib/python3.10/site-packages (from python-dateutil>=2.7->matplotlib->noisereduce) (1.16.0)\n",
      "Requirement already satisfied: threadpoolctl>=2.0.0 in /opt/conda/envs/pytorch/lib/python3.10/site-packages (from scikit-learn>=0.20.0->librosa->noisereduce) (3.5.0)\n",
      "Requirement already satisfied: cffi>=1.0 in /opt/conda/envs/pytorch/lib/python3.10/site-packages (from soundfile>=0.12.1->librosa->noisereduce) (1.16.0)\n",
      "Requirement already satisfied: pycparser in /opt/conda/envs/pytorch/lib/python3.10/site-packages (from cffi>=1.0->soundfile>=0.12.1->librosa->noisereduce) (2.22)\n",
      "Requirement already satisfied: charset-normalizer<4,>=2 in /opt/conda/envs/pytorch/lib/python3.10/site-packages (from requests>=2.19.0->pooch>=1.1->librosa->noisereduce) (3.3.2)\n",
      "Requirement already satisfied: idna<4,>=2.5 in /opt/conda/envs/pytorch/lib/python3.10/site-packages (from requests>=2.19.0->pooch>=1.1->librosa->noisereduce) (3.7)\n",
      "Requirement already satisfied: urllib3<3,>=1.21.1 in /opt/conda/envs/pytorch/lib/python3.10/site-packages (from requests>=2.19.0->pooch>=1.1->librosa->noisereduce) (2.2.1)\n",
      "Requirement already satisfied: certifi>=2017.4.17 in /opt/conda/envs/pytorch/lib/python3.10/site-packages (from requests>=2.19.0->pooch>=1.1->librosa->noisereduce) (2024.2.2)\n",
      "Using cached noisereduce-3.0.2-py3-none-any.whl (22 kB)\n",
      "Installing collected packages: noisereduce\n",
      "Successfully installed noisereduce-3.0.2\n"
     ]
    }
   ],
   "source": [
    "!pip install noisereduce"
   ]
  },
  {
   "cell_type": "code",
   "execution_count": 18,
   "id": "f6f59f92-9056-4076-81c1-103faa289d1c",
   "metadata": {
    "tags": []
   },
   "outputs": [
    {
     "name": "stdout",
     "output_type": "stream",
     "text": [
      "16000\n"
     ]
    }
   ],
   "source": [
    "import noisereduce as nr \n",
    "import librosa \n",
    "import soundfile as sf\n",
    "\n",
    "audio_path = data_dir / 'audio' / 'audio_8.wav'\n",
    "audio, rate = librosa.load(audio_path, sr=None)\n",
    "\n",
    "print(rate)\n",
    "\n",
    "# Perform noise reduction\n",
    "noisy_part = audio[0:int(rate*0.5)]  # Identify the noisy part\n",
    "reduced_noise_audio = nr.reduce_noise(y=audio, sr=rate, y_noise=noisy_part)\n",
    "\n",
    "# Save the cleaned audio\n",
    "clean_audio_path = 'cleaned_audio.wav'\n",
    "sf.write(clean_audio_path, reduced_noise_audio, rate)\n"
   ]
  },
  {
   "cell_type": "code",
   "execution_count": 13,
   "id": "c0369781-b3fe-46c2-a07b-0f9a49c3897e",
   "metadata": {
    "tags": []
   },
   "outputs": [
    {
     "data": {
      "application/vnd.jupyter.widget-view+json": {
       "model_id": "9d9f3415e2274b55b608797bb3a579ab",
       "version_major": 2,
       "version_minor": 0
      },
      "text/plain": [
       "Map:   0%|          | 0/10 [00:00<?, ? examples/s]"
      ]
     },
     "metadata": {},
     "output_type": "display_data"
    },
    {
     "data": {
      "text/plain": [
       "Dataset({\n",
       "    features: ['instances'],\n",
       "    num_rows: 10\n",
       "})"
      ]
     },
     "execution_count": 13,
     "metadata": {},
     "output_type": "execute_result"
    }
   ],
   "source": [
    "from io import BytesIO\n",
    "import base64\n",
    "\n",
    "dataset2 = []\n",
    "\n",
    "def retrieve_audio(batch):\n",
    "    audio = batch['instances']['b64']\n",
    "    x = base64.b64decode(audio)\n",
    "    y, s = librosa.load(BytesIO(x), sr=16000)\n",
    "    dataset2.append(y)\n",
    "        \n",
    "dataset = dataset.map(retrieve_audio)\n",
    "dataset"
   ]
  },
  {
   "cell_type": "code",
   "execution_count": 14,
   "id": "3019ddcb-9445-4b3b-919b-92eac9a1e616",
   "metadata": {
    "tags": []
   },
   "outputs": [
    {
     "data": {
      "text/plain": [
       "[array([0., 0., 0., ..., 0., 0., 0.], dtype=float32),\n",
       " array([ 0.0000000e+00,  0.0000000e+00,  0.0000000e+00, ...,\n",
       "        -9.1552734e-05, -6.1035156e-05, -3.0517578e-05], dtype=float32),\n",
       " array([ 0.0000000e+00,  9.1552734e-05,  5.4931641e-04, ...,\n",
       "        -4.2724609e-04, -1.0375977e-03, -1.3732910e-03], dtype=float32),\n",
       " array([ 0.0000000e+00, -3.0517578e-05, -6.1035156e-05, ...,\n",
       "        -1.3427734e-03, -5.7983398e-04,  2.7465820e-04], dtype=float32),\n",
       " array([0., 0., 0., ..., 0., 0., 0.], dtype=float32),\n",
       " array([ 0.0000000e+00, -3.0517578e-05, -9.1552734e-05, ...,\n",
       "        -2.2888184e-03, -2.4108887e-03, -1.5258789e-03], dtype=float32),\n",
       " array([ 0.0000000e+00, -3.0517578e-05, -1.2207031e-04, ...,\n",
       "         1.3732910e-03,  1.4038086e-03,  8.5449219e-04], dtype=float32),\n",
       " array([ 0.0000000e+00,  0.0000000e+00,  9.1552734e-05, ...,\n",
       "        -2.3803711e-03, -3.1738281e-03, -1.2817383e-03], dtype=float32),\n",
       " array([ 0.0000000e+00,  3.0517578e-05,  2.1362305e-04, ...,\n",
       "        -2.4414062e-04, -3.0517578e-04, -3.6621094e-04], dtype=float32),\n",
       " array([0.0000000e+00, 0.0000000e+00, 3.0517578e-05, ..., 1.2512207e-03,\n",
       "        9.7656250e-04, 3.6621094e-04], dtype=float32)]"
      ]
     },
     "execution_count": 14,
     "metadata": {},
     "output_type": "execute_result"
    }
   ],
   "source": [
    "dataset2"
   ]
  },
  {
   "cell_type": "code",
   "execution_count": 16,
   "id": "9b6f0e7f-aa32-40d4-bef1-d7774ff7ea5e",
   "metadata": {
    "tags": []
   },
   "outputs": [
    {
     "name": "stderr",
     "output_type": "stream",
     "text": [
      "Special tokens have been added in the vocabulary, make sure the associated word embeddings are fine-tuned or trained.\n"
     ]
    },
    {
     "name": "stdout",
     "output_type": "stream",
     "text": [
      "[{'text': 'Heading is one five zero, target is green commercial aircraft, tool to deploy is electromagnetic pulse.'}, {'text': 'Heading is two six zero, target is black, white, and yellow commercial aircraft, tool to deploy is surface-to-air missiles.'}, {'text': 'Heading is one zero five, target is silver, green, and yellow light aircraft, tool to deploy is anti-air artillery.'}, {'text': 'Heading is two niner zero, target is brown and blue cargo aircraft, tool to deploy is electromagnetic pulse.'}, {'text': 'Heading is zero one five, target is yellow camouflage drone, tool to deploy is EMP.'}, {'text': 'Heading is two seven five, target is purple, orange, and blue cargo aircraft, tool to deploy is interceptor jets.'}, {'text': 'Heading is one seven five, target is black, blue, and grey fighter jet, tool to deploy is machine gun.'}, {'text': 'Heading is three two zero, target is purple and brown cargo aircraft, tool to deploy is surface-to-air missiles.'}, {'text': 'Heading is one zero zero, target is blue, brown, and grey commercial aircraft, tool to deploy is electromagnetic pulse.'}, {'text': 'Heading is one three zero, target is orange and grey missile, tool to deploy is machine gun.'}]\n",
      "loading time: 1.842441\n",
      "inference time: 0.867365\n"
     ]
    }
   ],
   "source": [
    "\n",
    "import time \n",
    "\n",
    "start = time.time()\n",
    "\n",
    "import torch\n",
    "from transformers import AutoModelForSpeechSeq2Seq, AutoProcessor, pipeline\n",
    "from datasets import load_dataset\n",
    "from transformers import AutoConfig\n",
    "from transformers import WhisperProcessor, WhisperForConditionalGeneration\n",
    "import torchaudio\n",
    "from torchaudio import transforms\n",
    "import librosa\n",
    "from io import BytesIO\n",
    "import base64\n",
    "\n",
    "\n",
    "device = \"cuda:0\" if torch.cuda.is_available() else \"cpu\"\n",
    "torch_dtype = torch.float16 if torch.cuda.is_available() else torch.float32\n",
    "\n",
    "model_id = \"../asr_2/src/checkpoint-1000\"\n",
    "\n",
    "model = WhisperForConditionalGeneration.from_pretrained(\n",
    "    model_id, torch_dtype=torch_dtype, low_cpu_mem_usage=True, use_safetensors=True\n",
    ")\n",
    "model.config.forced_decoder_ids = None\n",
    "\n",
    "model.to(device)\n",
    "\n",
    "processor = WhisperProcessor.from_pretrained(\"openai/whisper-small\", language=\"English\", task=\"transcribe\")\n",
    "\n",
    "pipe = pipeline(\n",
    "    \"automatic-speech-recognition\",\n",
    "    model=model,\n",
    "    tokenizer=processor.tokenizer,\n",
    "    feature_extractor=processor.feature_extractor,\n",
    "    max_new_tokens=128,\n",
    "    chunk_length_s=30,\n",
    "    batch_size=16,\n",
    "    return_timestamps=False,\n",
    "    torch_dtype=torch_dtype,\n",
    "    device=device,\n",
    ")\n",
    "\n",
    "mid = time.time()\n",
    "\n",
    "# speech_array, sampling_rate = torchaudio.load(\"audio_2.m4a\")\n",
    "# if sampling_rate != 16000:\n",
    "#     transform = transforms.Resample(sampling_rate, 16000)\n",
    "#     speech_array = transform(speech_array)\n",
    "\n",
    "  \n",
    "# # y, s = librosa.load('audio.wav', sr=16000) # Downsample 44.1kHz to 8kHz\n",
    "# x = None\n",
    "# with open(data_dir / 'audio' / 'audio_8.wav', \"rb\") as file:\n",
    "#     audio_bytes = file.read()\n",
    "#     x = base64.b64encode(audio_bytes).decode(\"ascii\")\n",
    "#     x = base64.b64decode(x)\n",
    "    \n",
    "# print(type(x))\n",
    "# # for i in data['audio']:\n",
    "# #     y, s = librosa.load(data_dir / 'audio' / i, sr=16000) # Downsample 44.1kHz to 8kHz\n",
    "# #     result = pipe(y,generate_kwargs={\"language\": \"english\"})\n",
    "# #     print(result[\"text\"])\n",
    "\n",
    "# y, s = librosa.load(BytesIO(x), sr=16000) # Downsample 44.1kHz to 8kHz\n",
    "result = pipe(dataset2,generate_kwargs={\"language\": \"english\"})\n",
    "print(result)\n",
    "    \n",
    "end = time.time()\n",
    "\n",
    "print(f'loading time: {mid-start:2f}')\n",
    "print(f'inference time: {end-mid:2f}')"
   ]
  },
  {
   "cell_type": "code",
   "execution_count": 32,
   "id": "2dc6b201-bda2-4973-976d-2d6265059b56",
   "metadata": {
    "tags": []
   },
   "outputs": [
    {
     "data": {
      "application/vnd.jupyter.widget-view+json": {
       "model_id": "944b459ff23e4fc9941269a6ad1a1f9a",
       "version_major": 2,
       "version_minor": 0
      },
      "text/plain": [
       "config.json:   0%|          | 0.00/1.46k [00:00<?, ?B/s]"
      ]
     },
     "metadata": {},
     "output_type": "display_data"
    },
    {
     "data": {
      "application/vnd.jupyter.widget-view+json": {
       "model_id": "9a97d26fe69c4dcd9fd24b7fbd52ea71",
       "version_major": 2,
       "version_minor": 0
      },
      "text/plain": [
       "pytorch_model.bin:   0%|          | 0.00/829k [00:00<?, ?B/s]"
      ]
     },
     "metadata": {},
     "output_type": "display_data"
    },
    {
     "name": "stderr",
     "output_type": "stream",
     "text": [
      "Some weights of Wav2Vec2ForCTC were not initialized from the model checkpoint at hf-internal-testing/tiny-random-wav2vec2 and are newly initialized: ['wav2vec2.encoder.pos_conv_embed.conv.parametrizations.weight.original0', 'wav2vec2.encoder.pos_conv_embed.conv.parametrizations.weight.original1', 'wav2vec2.feature_extractor.conv_layers.1.layer_norm.bias', 'wav2vec2.feature_extractor.conv_layers.1.layer_norm.weight', 'wav2vec2.feature_extractor.conv_layers.2.layer_norm.bias', 'wav2vec2.feature_extractor.conv_layers.2.layer_norm.weight']\n",
      "You should probably TRAIN this model on a down-stream task to be able to use it for predictions and inference.\n"
     ]
    },
    {
     "data": {
      "application/vnd.jupyter.widget-view+json": {
       "model_id": "1e2eb327f6c443b0b86182a94d2b114a",
       "version_major": 2,
       "version_minor": 0
      },
      "text/plain": [
       "tokenizer_config.json:   0%|          | 0.00/554 [00:00<?, ?B/s]"
      ]
     },
     "metadata": {},
     "output_type": "display_data"
    },
    {
     "data": {
      "application/vnd.jupyter.widget-view+json": {
       "model_id": "ad7715ac720b4d39836292e7d5c48525",
       "version_major": 2,
       "version_minor": 0
      },
      "text/plain": [
       "vocab.json:   0%|          | 0.00/291 [00:00<?, ?B/s]"
      ]
     },
     "metadata": {},
     "output_type": "display_data"
    },
    {
     "data": {
      "application/vnd.jupyter.widget-view+json": {
       "model_id": "a7035a675d10417296bb0e24f3d884b5",
       "version_major": 2,
       "version_minor": 0
      },
      "text/plain": [
       "special_tokens_map.json:   0%|          | 0.00/85.0 [00:00<?, ?B/s]"
      ]
     },
     "metadata": {},
     "output_type": "display_data"
    },
    {
     "data": {
      "application/vnd.jupyter.widget-view+json": {
       "model_id": "da877464d50846d29fa15fa6bb176c77",
       "version_major": 2,
       "version_minor": 0
      },
      "text/plain": [
       "preprocessor_config.json:   0%|          | 0.00/215 [00:00<?, ?B/s]"
      ]
     },
     "metadata": {},
     "output_type": "display_data"
    },
    {
     "name": "stderr",
     "output_type": "stream",
     "text": [
      "/opt/conda/envs/pytorch/lib/python3.10/site-packages/datasets/load.py:1486: FutureWarning: The repository for hf-internal-testing/librispeech_asr_dummy contains custom code which must be executed to correctly load the dataset. You can inspect the repository content at https://hf.co/datasets/hf-internal-testing/librispeech_asr_dummy\n",
      "You can avoid this message in future by passing the argument `trust_remote_code=True`.\n",
      "Passing `trust_remote_code=True` will be mandatory to load this dataset from the next major release of `datasets`.\n",
      "  warnings.warn(\n"
     ]
    },
    {
     "data": {
      "application/vnd.jupyter.widget-view+json": {
       "model_id": "05557364130c4863a9f94c8ec9c26d07",
       "version_major": 2,
       "version_minor": 0
      },
      "text/plain": [
       "Downloading builder script:   0%|          | 0.00/5.17k [00:00<?, ?B/s]"
      ]
     },
     "metadata": {},
     "output_type": "display_data"
    },
    {
     "data": {
      "application/vnd.jupyter.widget-view+json": {
       "model_id": "b11859df280d4197b220086e83861701",
       "version_major": 2,
       "version_minor": 0
      },
      "text/plain": [
       "Downloading data:   0%|          | 0.00/9.08M [00:00<?, ?B/s]"
      ]
     },
     "metadata": {},
     "output_type": "display_data"
    },
    {
     "data": {
      "application/vnd.jupyter.widget-view+json": {
       "model_id": "602390b728984041ad8ceb9211515f6f",
       "version_major": 2,
       "version_minor": 0
      },
      "text/plain": [
       "Generating validation split: 0 examples [00:00, ? examples/s]"
      ]
     },
     "metadata": {},
     "output_type": "display_data"
    },
    {
     "name": "stdout",
     "output_type": "stream",
     "text": [
      "{'text': \"EYB  ZB COE C BEZCYCZ HO MOWWB EM BWOB ZMEG  B COEB BE BEC B U OB BE BCB BEWUBB BXYWBESWYCB SBBB SSEZ C Z WH UB F IGVB SB Z<unk> XOES CZ BBXOXFBB  OBY W B VM OFOWUONFWB ZCX B M WZ Q S C Q BC CQBF FOMB BOT ZWYBZ WB  B CM B C B WZCWWW BHU EOYTO YWB BZ SHZBGEM Q OO T B BM XZ QW C OFBZMSEHB BE ZZBX M Q XB<unk> CEVWZ FOHSB W B O Z ZW S ZB O VM <s> D EUCKH XNC D Q BG B O BW U  U  MBE CBYE  WB HFQUBQBUWZ B MW BMPY F ZB  EB B WBOF S XFOBB ZB X B MOT W B CEO WBM   BBXBBEOBECB B UM C BP FMBWB BZ WFCED Z B B FXB Z OZ OBBZ NVD UBZC W B WYCWY X CE CW B WB MWU BWN B DECF GEF'C WZS CS BYWB<s>FZ'Z<s>ZGBU ECFEY BF ZOZ O UWBSSZBBBBW   O O DBB BZWFUW ZWOZYCGOYCOT WC O CZ BD BBBBBBX X W T B BC BZC FWYBFO FBCE X Z PEZ CE B WEDBMBO BN B BY Y  W B BMCB XOXQ  BSZES Z M CF S FB BBXBB B C CSZ EF SEQF S BEC BNO BN  SU EH  WRFBS WB  W B OEZ WS X B F B X ZBBE BBEHB B BU BECBSXHB BSQWFW BSZXH BWSEG W VQETZMCZ UCXW Z DBE<s> O SXZX MB W RX YYOBSUBWOCFYEF O B O B C Z UBEZBE BTB C   CBFCB V W B BF W ZBBESBBECUT OH YCGZE W BYZBYGBEW BSBE B  B CBEBEBU BU OQB OSB CB Z Z Z HZGTXZ USZFB FC ZO C\"}\n",
      "{'text': \"BE BESBEBEZ WOE FO Z ZOZ NOS R SUCW W NW 'Z HB Z GCB'Y YNBTB T E Z  B BERB ZBWB SQBESB  S U CBWZ EBBZ Z ZBEDC BZM F F ZFZ H E C B C MBDWB BX  B B W ZWMOU B BZBBXYC ZB YB Z BUV B B MNTNZDZ GBNWF   OOOXF CEOF WBSS <unk>W NVC BCB B U U EZ O OW B D BWZ <s> BY MEB FNT OZBR  WWFFCW  SC U GBSB Q B HWB Z C M B E BS CW BB B TZ CZ C HDSCE<s>XOWWBBQXFW BCSWQXF BBZXQWZ B BBZ XZWY FB WBSQXFE BBOWZERB WC CW W BFWWWBWWBW 'ZWEBOB SU BF Z CT B E BZT  Z DC W ZMCBF WBYZGCOYZBFSWC BCF<s>MCSZ B ZBUCZA WZ  OSW  DB EDBZWDBZ Q EOGCBSC CS ZC QE CBC OFH  BE X BZ ECEB ZB E QEOB B CZBEZS T C WZSGWFCQ<s>E  BBSB OXOXOW  BSS Z OUWCH E B MZ FZBFBBBWZBSSQW    EDU BSEGBZEUBBUOEDX<s>SU ZZWZ Z Z C CZSTWO B B C WZW WBVTBS ZU UQBESEBSEBSEQ FBSX BOX W BOF O   F Z B C WZWZ TYBD Z XZB UEBTOCB B  OBBMOBS WFZWMB B HBSZO Z FZQZ GE O B UB ZZUEOBZ B YBUQBEQ ESBE B ZBZQB SBU B SBEBEQB B CB WBEWBX CB ZWEW\"}\n",
      "{'text': \"B OB ZBS Y MF BUZ BZZ UZCOEZ EZ FD E BDB CO QGD GS B TZC ECND ODGZE  BZB UZO T ZHB Z H B B R B  B S O ZZC MQZOEO CBF  ZWDWQSZED TB CXZ BVFW SOC ZEF T FONZBF UBE TWBC COZY CZWB ZTHVNWB  CNHWZH TWX U DTZM F BNZMWB BY EB CBFH EZEWDZSVSZB S <s> CZT EDUWCB EZOU UBFBWOTBW G X B E E BNOCZYR  BY G ZXE B CBEOG ODZB SBMYEMB BDNFQCWM BBBOXOWB BBB B CBE ZSFNDF ESBOCB  B MOZEBSB Z OWTBQMBZ SZSE B FW WBG FWEQNBFE HBHG BC BZRZBXBZ TWBWFOZWB WY UY SFBWZ F BC</s>BTBQ BEZ WZWZ CBSSS WO BBEOZ BYWZY BYEZ WSO BWCBCE G XCXS T W W MWO EB CB XQ B BZV XG UB B CU C Z BOQXFEWSQX SQF SZWEWSZX SOU ZFCS OX<s>BSB WB CE BMCS ZES WSZXE SZBESZXSZ XBTEB WC BCBEQ WFB B SE B F Q B ZXZYBOEYXB W BD C OQWBXF WBZBZCBZESB C B BZSG OC E B CM QBFC ZBS O CS GOC N ZB CUBWZF ZM BO TOOZ OB C GQ ZCZ C OB  BCBBE OB WG H ZCEDT WW B Z OWCEEB W G ZOU B B <s> B X BEBE B H OG   BZ E SCB B B OMCY WBZY M EWE Y ZSBPGOWZU  DUE UED EDFO VQ TBZW B CQQBZB O   SXB Z FBTB BB ECCE CB ECOB SZ B ZBE ZB W W BFB MWOBSZW  WM W BDB  BE BO B W BGW B BUETFHNBU FH FZ FGSC 'BBU  E BXHB ZBS Q CT OQT BF XQRGY GYWD DX CZ BZEFVWZ OB B GB BC B H FO N WB    MXGXGXQWQWQWW OBMWBS OQWBZO OBWZ ZBZEDBZFZ OBWZ QUBB  HSW OBS X EO OEO CUS BOBMB B BFEFBSE<s>BQZ S ZUB XB OSZB W WQ CBM  CESGBY Z  BCZ X ECGWY  ECB B  C C W B B B B BZWWZCMBF B CZB BZT E WZYZM Y W OBQ B WB WBE FEBECMZBFSBO BEZBUZB BFWBEZU SB BEHMECUEB GSZ B BCY TQOU CSHZW W C B OC ZBZUBCZ BZ ECB YCOB B TZBB B SZBZW BZWN BQ MF ZUOEFGV WF C C YBQO WZ B<s>HSWV F QB WB E WBOWZSZWBUEOWGF MBZ B B O G W BCW B H WFWBZ CZCSZ Y YSYSSZZSSEBC B SY DUWZBHS  GBF CWCCFCZSBZB B SZMWT BZ WQXF BBQXF BSXSZMZ DZBWZE B B B CN W  C CZ WCZ Z ZBWB Z HYTWEHFEQB Z C FOX Z O BB B W   OW BEDTZEDZ O WZ WCSWOXEDE EW XFOZBB B ECW O YBF  SSFW S QODZ YC C WBU BE ZYQWZYY OCQWUK 'O B BBZT SZX S EB Z H W Z MVMHWFWBX ZWC  BS X    WZ  M FXWZ FZB BZTBZ ZTOC CYEO B VB BVW WB B Y FT YO O BFOFXBECEDB B BQWBEB  T T EZM B EXY WQBF WSCOWC W WB CW BCD  XSNC  SZ EB XB X SQX BZSB Z ZDBF Q WQS BZUDSOZ OB BECY BW B YZBD W CB P WFBSYWW EQXWES ZMOYBDBDWEBO<s>OU XB WCBMCW BE C ZB B ZEBMWB TSZSZ W EHUBBSB OM Z WQWM QW   W  BBBZB XO BOTXBT OOXOWF X WFE WBHB XZWFB WF XBBW CXZ WBFBONZOCBNBZBEB E OW BE DW  SEBSBUBE BU CNOVCBZR ONGD YB  OW CBX WXB YB  BEBEZBEO B WEFBUXBUEBE SBB B BBUEBESUE SM BTZBSBEZ B TBE\"}\n",
      "{'text': \"WZBZ Z ZCBWZ Z W O C ZC Q WC ZW GUVM SOCEWB C S <s> WU E OE NHO ESOBT GTG XC BCBB  BE B BU OBZ S Z ZSQBFS<s>BZXFBE O MF B E YBZTOZ ZDSED D S T  C W XWZWZT B EYO S BSBQZ BE SBE EZYMHB Q Q Q WZ B CW BM V B WXZ W <s>WBOZ WS BEB WSEOBSBU B BBTB FD EFBC  F C  BW BY  BM WC BM T T BF BQWZXHE C M ONC O BCBWB NT ZOBDZBWMTX RS<s>B ZBB BBBCUW B C  WQ SB U ZB Z OBBQMB  W WB SBGWZWCBTWZT BECZQ SECBMZCZ H C O FW WKZBQZBEZFO ZQH EQEOT Y B B CBS BSE ZB COXC<s>VZGMWUWZZSZZCDWZ ZW O CEF SX WZB BECB Z ZFB B MZ BZXO BES ZBZ D Z BBEBUB Z Q E  BM SB C UB CT  OM O O Q BZQSZBBQWO BBEF SQWBBF BSFWZSFBEU SVYZBFBSE<s> BOB B HBBSW BSH BS B EWBM C WFB CW TBBWQW WB ZB CW EY WBM XB OB QMBZW BM B EB EBBEBBZ ETBZ ZB CESC FB BSSOWOXQ   OBZCZCZ OW FBY  XOSM QWB  XOQ Z O BY BY B WM Y TZEOB BOBEBX BECBE SBB XUBXBUBEG UD</s>FYZO WBBBY E XBX B MBMBMBMBMBMWOWMWO QWOBOX W  ZS T EU Y <s>YB B SZ EQZN YT MWBEBHWY F EUC W WZ YZMBWSMFBNMEOZ FZ BWZWBZ BZE Z<s>B B BUCB CDWSF EFWBQ B BY BZ W ZN ZWZ XM F F EC W  Z E MBZ WSXFBYB B HZ BZB B D OE SBQX F SB O SBBZBZ  EGZB ZW Z OBZ ZSZCZ BO Z Y FHOEC SCOCZ CZ Q E ZFOCE B FB X C SE CQW OET WTZOE Z CZY<s> Z GZM BFM<s>BD BECBB B ZYZY Z NWOD WZ ZCSZED  X B OM OZWMW F ZBFOU UBBS CZ GWS EDWZBZ DWZWS EHBBZ ZWZ XB CQT OQ BE BNQ BYCMBZ BEB TF XZBBZC B BCBCBOBOZQ HZFXCW WCZ WBDC WBZ  REQEGDM V B C BZ Q QB  DB  F OCWZC WCBZ CBDFBG NT E B XBSXBS BZBE BE B  Z  B UMZ  COWYB BGWBOX S C BW BYM D BM YS BEXBM W OT B OZ B  CWBZQC HFXXBEZBGXF SXM WM WBE O  VZN CBZ EYW OBY BYB B BMB  B C QSHXU EB Z SFW C   BZBFB BSW B<s>BB B F ZOWEZ QO SBBS E SEB B Q B BZX ONBESFCBWHWQ CBEB  HWN OB E O CEBBXEEBOWB B T H BZV B CB WBM BYBZBDHOGBXYQ B   OC B B OM R WZU CSWB ZOFMEYBZ CBYU BSWBUES S E  ZBEYFGE DBZ ZC W CEBF B Z OLWH V ZB BE ZB' MFOB BWBECBSBY EUWO'<s>F EBEZ BMCBY XO B OGU S R OBZ B Q EBU  BEOOBCB B DQBXB BTB BEFBU BE B T BY C\"}\n",
      "{'text': \"BSXO WB B F G BP SZ  B W T EC BZNBSZ BH U FOMCOMC Z ECOMTSBZ CBY BF   U BEBETB SB Q M BE UY SBESBZ EO BBSZ Z ZZT T T OUTUTU UOXOEO OXDZBCBCEWZM VYWFXZW TZ YFZO YZO  D  ZBO Z BF BC Z BF BMSEQEDUYNC O VNTCYBZYF OEYZEWZB B Z B U ZZB  Z  BSF BQE BU GCE T Z GZ CB  C B OFB Q BEDWV Q W   C B ZWV ZE CGB UOHZ CMUYE Y EZE EWF B HKFO EBERB XCZWC GCEXESECZM CFTXCFYTCE O BEM TB FB MBY  E UBSFQ W  W TE M B CZU MNC  XB ZX  D B TZ DB BOM CDWDCBB C D CZDZDBD D WWBXBECBZY W BCFBU EBZBZSB ZO W OGC SZB UD  UZ WB  BFBXCB  EYZB G EQBO EBGBEGFB ZB S  B  UVBE B B  UEG Z  MECZ BX BU Y ECBSBY MZB OUOBUBZCBECB Z OE ZBEB B Z M   BZ FCQEY  Q    BSB ZU OXOSOZUBZEQFEDC F COSCB W WSGWZEZ EOT  TB W C BE RYBO B WW ONOO B T B ZF Z S OX   SF SQWBEOBSB BZBU YZ WXY BQYWB EBEBZ MB CBNZB EUWB<s>B O BT B M G E BBCS B W W BSEB XB B BEC CEOU WN UBG WCB W X BXY N X CB ZFBSEBXTWBESC YZB TF S BB CT E SVN B FSBUHWB OC CDB Z Z QZOB FCDN B Z WZCOG V BO OCBZC FC B B CD OCB C OBQX EZBUSB B  BUE H CEOWVCCZ  WO O  BBS XOE BBX<s>EC BSBZ   W W  W ZWZBOS T ET CZ O ZNUEGBV NOOXF C BBQXFW BSS Z P'ZCU OZCSEUCBW FMO O B YZC OZEGQB BU  VZSUEHBEUZ  MIBFSVZ S Z Z HEPF E OFKSZM Z SRZM<s>B B EOEBZ WD OBY FZBXOQW X C W Z BZ UB EBZYS Z B SBFB BDU   WZMTWCSZOBXE C B B ZC  CB WW C X BZM SUC WT CZQEO B  B WWWS Z WBBTQBZOWOBDQZZSZW BT ZCXSB WMT Z YWZWZM C<s>  CZVG EGY<s>YXO CB O H ZOZ EUBYX C SC</s>Z BSF MFE YB CFZ TWSUO X YBEYC M E ZXM X SC BBMBS BEC W CBY Z B QYX Z BY  NZV ECW GBX SG EEWO B ECNB BWBB B B BF S SBNCYTW XYN T M OE FO C ZFZFE FBC BOCDZU ECZY VZBW UZV F X BZ MOZBOCO S CZ WZBCOC BD C Q  C VYO C WZ BOBO F FBT  Q X SCF SE EHHUFESU Z WOEOB B WBE BOB B OVOM E B F DZCZEDWZ DWZSZ DUEDWGSZ OSW     SZCRCM B BU Z BZ WBE S YX B SW B QWST BECX BMSXBOB ZBE SYDBXTMBOXC ESX<s> CBYBNSZMBESB B X B B B B WZB SBYBXB SOBBCE E G U B BZ BBBEB CECB CU YSBFE C SZ Z ESYC B HEZ OMDZ NMC BOYFU B CB ZBTOBY SB BEBFETBS U B C BWB BEBBTOBE B OB <s>BXB BE E B B CBBX  BE BEBEOU B ZB B' B  Z MCBOIE OMON BO ME ZCZFWZ X<s> OZCUCB W WZ BOEO HSZ YZ UZCEB E CZQ Z YONQB WZ Z Y WSWSWZNCB MCB GCB O Z ZF GXZ FQMHZEZH Q BEZTBXOB BMBUEBE B OB OWZQ BBU XBESBUFBEGOB  B SQ OUFBBSZ OCD N CN <unk> R YC FCT EB  MCZSY XBXOXOEOWBBBOEOEOXYB BFCBE BDMWCWQ D H B C SOM MCO FOMO O B B QU WFHY MBZMBWZ FGDYN D TZCB YCW E Z OSZBF COBZ C WBZBWCWUOCZU Z WBY WBU CQ ZO W BZ W BW B Q CW BM  CB H WBUW WYA CB T OB S QT B B QX BWC O BNB CZBBBZ WW  WZW DZ WFWZ DS W M A WZBZ YBY GTZS OUO B BZCZBCWBVOBQCZT B CSBX U FWZBOZS  Z OBVFU BMY CWOBEM MEHZ  BU BECBHBESZBV EZE Z ZFOSSYEB OZS CBVBSZBZ BS Q  CBEFEBBBQX S F BO EF MZSZO Z B D ZBO S BZ BZ WFF WF P  DBBDBEOB  BQT BEZBYMBZBZBC CSBD BYBZBY BCBSZ E SB ZXZBET BOT Z F CXSMB XBZ FWWBSFE BZOS XFXO F        OECBSZ ZCMWC C O  FOZ Z FOXEFYBNHO F DBOZNFOZOV WNZY X B X QOY   XFW WBB QWFEWSSE BSEDZ YOBEG VC<s>BZ CC ZC D Q OC ZWCH   F  WWWQBOO FWE BSB  XOEO WC V X WBWZZ BBO X E FO BF ZBEQB OZ  ZWS TS Z NB ZV W B T B T TB  SBEQWFBBSEOX BSOOSOFCSOG WN SBYEMBNBRSZ Z P VEZMWSBUHWHB T CBGCZ B SZME BG ZC SZBZT  ZC ZXCBDBB WFB T T OX OC EBU COY  DEBZXOBQT BO BMW BBWB BECWW BF  BCSEHU E OBGHB  FGHBZOS <s>Q<s> ZTS BG ZFOV B GN EFB BE HZ OBEHBEOE BSHMFEW EXHO FZ FCSZ T T W Z OZH Z Z HBEZFZ B W ECFO  BZCWB BZVEFOF  Q ZU TBWUVCB W GUS B CEZ WS WB WEZ WOZ BBZBW  BSX Z XZW WHGUV N BZTE S X BEHY SZEBW Z B CXFQVZ HE<s>XQ BTBCBUH BCHBYUHYZ UQZ <s>IZ B  QONC VYHVWZWZWUECSZW XE B CZBGB BBXET WZBRCB YHC ME Q IQ WCWBG W ZO B WDBZHH IT CBEMVWB  BESZB OBETBWB Z BE B B B BE BE B B  WB BEZFBEB EQZXZBU BEBF BESB B SB BZX ZBX BESBE EB BEZ E BCBUBW WBEZ OWBS ZR CMZ WFB WF O BECTSMQZ O N GZ <s>GB S Z O B Z E OBEB  BEW B  B B BEBZ G BCWZCE OWZQ F OBSB  F  OXOXO  ZCE</s>OXZSBXFZ ZC RGUECB FOZOZ RF GTSZCZCZCZS XO OW BBZSBZ S G IOENECOWWDZ  TZQ X BMZQEWBSFE WCOXOB UD B B B EBCY M B F C C ZBZES W R XCZ WB O BE BZOQ BZMB B O BZ QWWO XFBSZOTB OWBSS<s>XDWBBB BW Z COC Z UBMOEBBZOR QZ NBGO C Z E GMTNZ Z B W BM BEQBW CHBU FOH FZ BGB TB  BMTZ WZWZ QBCHZFH UF H FZEDM BBW BHM MZWB W WBOXZSWSG X C ZK VXBC NBUOEWX E YC W EB ZOWOBQ Z YCY XO E Y F WMB BMC B ZYW C WBSB CB BZ BEB B  EZBBE S WT WZ SE B CXBBWBE BOBCB BZBD CB B X B ZM YZYZA TEFBF<s>Z FB DWQWVY GMQ X BXSM COZM FOZ W OZWFDZWZX BZ EC ZF CBEBNB WBZBE  BYT B YZBG Q BD Y GTDWZSZ Z ZONY ZTQ I WY WOBMQZM  <s>BF ZCZ BCQWBOEWDBZ X ZC O W WBW M  WB B B EC UE BSB MWBU N B B  ESSB   OXF  WWBSZBB SWZWC   BBSBB EBED C ZW B C FO ZB Z F W Z YSO Z EYBE Z EZ E </s>YBQB BYWZ EYB ZBE ZEZYDGEG YU  U OUBTZM EUONC O EUZF OXZO  ZZNWZC WBWB   BB BEB BZ B B X SYB WBBBU O S C T OEO C ZB B S  BEB TO ZUZXOESB BES BSE BSM X WF B Z BESBZBZBE BSXF B HN CZRCOWB  DWCBZBED BEQBZW W T YB CBGW EYWXBWQ TZSY XSOEX WY E B OBH Z CY U COB BCZBB D   BF S WZTF SBWBN BS B SOMWW RBZ BWZ SBB  XBUBFBBBZB GQ ZB Z BCEZ SZCN X T B BO WCWKBG  FWZTZOEBNWB WB XWBOO O BBSEH FBWBE ZB ES BZ WBBO T ZB BZ FEFBBCZCEZS S Z   C C C Z Z Z   CO  W B WWB W B CW OEZOEBQXBG   Z BZ CDOZCBWBWX XCBE B B BDG ZB  WC CZCOWBTB C TZBEB BB ZU WBB CQBX SQWZF B B O SB B SWB BWSBE  B B W ZYFB Z F EZYR COZECBZ M OS  OBBGBZ  SF W NOB <s>O ZM B X DCZ ZOQFCX B G ZCOBZ S</s> BYBO ZMY N WZ BO CBXS ZEBF FB GB YC OY OMC GT B O CBW  EB BX B  XF        OBCF FWBZWB O MB  OOBZ W Z YBO S B CMZ WBEBBZ OBWFXZ CB OFGW FG S O W CZ W BZ Q CZ  CZWWBUE OWFW  ZBZESE BB EZH OZ C FQ BXC DC Y C Z SWB YZ XZ WZBW B MBW BZEWBU B Z BB BE B BX CB B ZB  BESE\"}\n",
      "{'text': \"O HW ZRBMCUBC WOG O YXZNYQOHWZV GF WZ GEKWBF  UOQ QS ZCBT B E C YOUECBEB FB CBBCBB EO ECBE BUZTHBB CFCBEO CZ Z Q W FSS  C F O B BWWCBEHWB BWCWXMCBMNB WCBVMOZU ZO   ZCWEZC FZ WOET BZ YWSSSSSBW    Z X M B B FBC  XSE FE<s> OF WCR WM BT ZYEZWSOU Z BCGTW X BXCW Z B BZM WCTBOCZBZT C G Z HN CTZWBF     WBZSE BSQX BBQXFE O  O DB Z N O W FYQ ZEZ EWCFWFYZ WO  C CYSFV FU EFCFFBCW Z SBDB B SY BZWSC BEZB WSQZ WSFUEZEHBFEO BMWBYOX BUSOWBS F B NC OYBEYOBBYB EC C BCM WDBNC XEBFBYB FBB BOG Z BMYN Z G  M BI ZWB MCNWBZX ED C<s>XQ BBEGSE BE BESB  B BE CB BUW C C BZWZBOWZW ZBOZ W UOOOOEB B  Z EBSFHT FT B CN YSB E X WBE CB SOVZ CO Z OT E B B O EB SECWU W B CZY BZT SY W BY BS Z W BBEQ BSEO BSEO BB XQ BBBB BZT B OMWY B Q  HDEDWQBZ QBSS  ZBOBOW BSQBFW B W  <s>OZ WUZB VB ZWZC CZ OBM B B BU Z Z C B FEBZOOD WE SYB MW V B ZB B B BXQ HBWEGCEZ H Z Q H V FY XV Z M FD BZ B ZV BWB R CB O N O T W BWSZCW EXBB WBZW SEYZ B GYZF O DBY N CWBZE WBWB SBDFBUSXC  B WE SCUZFGBFBEH STWBEQEBOX  F  B XBOEBQ TNCBV B HV ZB B BSBUWB WO I O OCEZBCZ BC W BFGM BZB Q E SBYBN QX  SBY XDY WZW F B  BZ ZTZ M ECBEG QB WY Z OWZDO  B<s> CZ ZGBZCZ BOQSC W WB ZB Z VHSCZSB NOCQWBM Z  CTBEC B M W YEHG FEF CSXB ZB B WFBO BDC ZFC CWB BDS EDBZ  FESBBCESB ESEZB'BX B O HB  QB GSB B D BN <s> COZ CB BYBXBX ZUZB C BYB W EYB O ZWM TF M M BZB SZDBSWZNQZ FBZ B CDSBEDWD OW XU YBZB CCC BOOXB X F X FOZEOBNMYZEXB Q YTZ O EMZ ECW BSBSS  WWOEXDI YZ EOZ WO YBBYQ O ZB B BZ MZ WFBOSZ UBUWBU Z FOB Q  DNZW SBZBYSX GBFBESNYC V B BZ S F EBCFB ZF'ST B ZBE ZB G X CBUW  W XDS BBW EBFB XBEGB BEB B E SUZU BEOB BC UE B EBOEBEPBCB BE BE F EBBEGSECBEOBUM B  B OF BE Z'CB Z\"}\n",
      "{'text': \"B ZVEGCBE BXB BBEMYBE TB  BX EG UZ UZGM <s>ZBG E B BCB EH  Y BE B OFBE UENOB B BCBESEZ EBEOBBEC WFXBF OUEMWB    BSBOWHBBB WF BB EGBBXBE BSOUOEOE FOH WB ZWDW QWZC DW EWEOZBDZZZOBSBQXB VNB S BZ BD B B EB BBUEBV O ESBT B ME EG F F ZCF  XXWDZY CZW CQYBKBT CB H Z ODCWZX BCEUZ OGBEB  Z W FBZBE  WWZWBU WSZ OZOBS ZFHBMOXQ CEHX O BS HXS'BU WSEB CBMB BVB SBESZ B B WWW CE YZOBHBZ BUBZ DB FBECBESBD EOBEB SUOE XOXDW WQ BBBSS OO Z OQ C WCFEHBZMHE FBW WD VCFZBN FC BZ<s>EBBEB Q B ND MOH BSYE O<s>MB XD CFCTBMBYBXB Z BFB TB CXWF HP O B MCSEDZZS WWYU B BOBO F F CXOXWWW SS WBBSEBBB ZUZ SXO W QW CSBWQ B ZWEBYM  CB BCDBZ W WB WBZBYSV XSZMYX  BDEBT BDMDM BOGZB EBUMB W SUBZ QB S H UC CEQ QSBFZB  B U BB B B CC SFD  <s>YBEGY M EZB TZBZB BEBXBW ON XBEB OZX BEZB BH SB B HWSEMB W CEBY B H BEFB XCXZ CX BX B BEGB B MBFBZDXY COBGB SMYB BTBZBTEZ CSYZ ZYEBYWSX WBZES BWB BUBE ZBCX B BX EZB BSEBEHEUOYA FYQG O OBGZBED BY EX ZSBW BZ CECBWSGZBZEWTB B EQBFW B SEBU<unk>NCB CE CUSCZSBEKM FBQ OEB B SB B BEH  <unk>FCX <s>N C BZ EBGBNVO W Z OD MNT Z VZO ZE BM ZO BC ZCFY\"}\n",
      "{'text': \"CZ  BEC GM FCBU BQZ BOB SBZCO Z YUE BUZ WU B ZEMOB CYWU OB ZBEI BXZR   U  BEWBBEZBEDB   BBE FBO B BSBBSCBWWFW ZB WZWZ DZW ZWCZB WZW OD B ZEC VC TBMWB BZ WSOFWB F ZTWBOBSBBBUS N V  BHCO B CBUBS E BQ BE BW Z  Z BG CXCX Z Z  SBMT TU    Z  E WZ BMWOCZ OUS WF XCM B XWZWC D C CWSES O C NC BWCBNU BC UWZG OT FXGB COB WB ZWWZ BWQ E BEC B WB WZ ZEHWZ SEDT OB CYCF UNE QBMYUBWZT NVGTBZH Z OBOU GB SG B O BZC EWZB BBCB CB B B B B BE BXZ E BEHBUCBEBZBVB X BYCB ZB TWOZ  EB BZWBZWWW B BZ BS<s>WB X S<s> BSZOCO W BDM X DO DZ  'E XW B <s>OWW  ZMY ZXW CUOXWB WSCB X OTZWFZM XBZOWNCBZWQF BBFD U YCU EB W MVF B S QBZBZ GT B B BBUCEZ WB OS W ZEZ TWZ WB GX B WBEBEWS WVZBZ <s>O ZE B BHEB XZWZ DN WOZ B MWBEZX S BMEUOZ OQBYF VFPOB  FB X SX B ZW XGSB WG BBBZ ZCZBB Z BY BZ SCWCBC S WQOX ZBTB EOBFVGQM F OBZ BSZHQ  CWB X EYTW ZT B BO MEB  DNZCYWBEHBEHO SBUEB SWEBE CB Z XOB ZCFZ O OZXMZ C<s>GQG GOEC WZOQB <unk>CZO B O OWS EFB OEZ BEOB B W HBEBU  BZZ BEWFOOB<s>EH OOQOXOXOXOXOOOX EDU BZBECB GOM WNUE F  BZ Q BDCG ZWBZ D ED B O ZWMW OFZ ZWZBZYHOB SBZ M O COUB BZW B W BWH EOCOEZW QFGBE  W ZWZBZOZBSBWWBSBB  XFE WWZUEVEGW  ZZFQ UZO C S ZYFB DBMXCOYB CZ W Q  ZBM  ZB X BUW BZBE B Z B FTZBT B WBEZ NB FM T OGTOGBFB BMWSZ WSU CBZBECB B C BXZEQ BMO M X BOZU CWY MO E CAFCBE B  Z C FCQSB B BE E B  F BEB  B SB BZBXSBEZBE BX B BO BFX BEC EOEYHN BF  OZW OBZBWOSBEZWZ ZO Q SSWZ DOB C B OB C C CGO YB ECWGBZWBOQWZWFWGS GBWZ XZSCZS X E WCSZWS    ZBWXWZ ZD MZ  DBXBZ  ZDC BE C ZBCBW B QUBECZBZ F BQ OH X WEOB S FMCZ ECB<s>FZOBZ BB C B ZO X DQGQ Q Z CQOSMW ZEG WWBU Z NOZEWBMQOC' C MWZ O B  B ZOBUOZB  BG EU  YBO BS FBZZFBMQ BBEBU B  BE BU E B BE BBEGBETZBSB\"}\n",
      "{'text': 'E E YC GRWB VHNM YB  Z ONOZC T BO B BF   T OZBO WZYB YMWZ Z E XDGNOYO BZCW Z B BT BU MB BCBOB OZZB E BZ FCD T ESCYB CFSCWU B  B H Z ZOW YZ B Z BZWZWFBE FS  CUBYMF BECBSBY O BY BX BEZ YBZ O S  WBE WS Z ZBU BETB OYN CO W PZ TW Z Z Z Z OZZWOWEDZXZEDZXF WCZ CZ XZ BZCU EQC  YTMOA<unk> U U ZBTWSBU B EB BEBECBUOB ZBB CWCM BWS HY EZ BECBD CBWB QEDWC W B SN  S CES BCSFBOWBS BZ T UB EBU CBXW BCTFZBDSZ D XWCZ CZU DZ DZY CDZ CZ CZW ZX CBZ FOZB CQB ZSZBS W EBBCBSECQZ BB B WZ WOEWCZ CB B ZXSBZW B CBW EBT  BYBZ BUZ BV ZBT B M Y CW TWCBZ BXBUMZ OWXBEB  B B B B E BEBESB WB B  E B B EYBB SEY B B EEMW WW BOOBDZDZD CWSSUSO ZTS W B CM ED BUXECZB OHZ HSB OUCFB B MF F V CH G UBOW BO WB B OZBE BE B BBE B B  B CB ECBEB B B B B BFZWWW   F OOOSSOBE X OZW ZY GSBSYBOME OW VFYB Z <s> Z MZF  WBZOZWSEB B ZBYBFSFBBBBBE BOB BBB  WF XZ UF CBEB SB BBEFBEF BE BB BE BE B COE S EBE WWBE B B BE B BESBE B O E BU'}\n",
      "{'text': \"BED B  DECZ ZGR EO FOC ZOBP ZCG<s> GTHOWME WZ  ZDOQNCFGLSCZ T B FHNOBV TO U O CBE BT BOBE G  EBCBH H ZSCBH ZS OBVZCE BEWBYCB C O TBFE EHT S B B B XOXZW B CHT BF WB QT O O Z B FB EZX SS B QXFEBWZT BSUZ BBBQ QF WZOHS WCF BCF BWYB TE C B U DEC XWBSBWWWBSSSSBBB  FBCBZ  QZSXMBF WZ VZ C B E OKWCBZEZWYMH W Z S EOBSEBSEBEHB BQBUGZUYB  BT OOY M W B O WWOEZ TB B X MODE BM B H YBOZBZWEC X CB BECNS FZ CZ QB BWZ EBBWZ WB HXBSET SOYCE ZY OB B W B EOEO CXOXGXG G BT QTZBC B WYFXWOZB F OZBW Z D ZWY Y  BMYBZ ZFBSF QBMBBZCSS E SWNBF QEFNQMSG<s>Z </s> WBSZFG W ZZW B SMTWZ WMBSE CRYOTWOX CV WZ BXOUZ BBZWZWWS CX<s> BUSEE ZE OBX<s>WB WBB<s>EGB BEH S ZW BB BB  E WBSOQXFE BSSEC BSFW ZQ'W BB BBB ZWBZOEFO E B HEMB BQWSH SEOBSEBCBX H OSOX<s>WBSEOWU BZB B O F COHC WEBYMZBBSSWWBBSWF BO WBB WB X BXFB BUFBSSEUSEOEO ED WMBNB CNZWP B W F E  YEQHTE HFEZ   B Q B Z WB WBUCB B OBN FOSCWSWGBHWZF BT WNG CB FBUE BHBECBBMEOEZ CB B ZM WB Z  CZBM RB BFZBZSSZ SEQWO B N B C BGO  BEHB E E B B  YS H F ZX W W BYBOBBZBZ  S Y WESBQ WB ESNCF B SQEC B BTWBEC B B MMFYCB BEZEHOF OMH CZO O EY Q 'ZGSFN E Z <s>ZOZ DCM NCBCO OD EYNBC S O GQMCBNFC GD E FN SMMEU F BEZCMNDBU UMBOBEHZX HB HBXOEBBEGCBZU BEPQ S TB  BOE BY  WF SY  SYSZ OCESBSXO BSW SCX XFBSEO BSE BBXOWBSEQ BBEO F BBBBZBWBE O WQBZ DZWO XSZ BBZWRUH MBOCFU B WBZ STW BZWSEQB C BZQ XSU BB GT E N Q ZQ BBCZUZW BYX MFEGFUOBM  B C XEOF BFZFO X OF BTBSEBET HBE BEQ'G B S WBZY BZB B ZU QWC UEGHDOEFB QBFGQZ OBZ CS HMR HMZWS TWS TB WXZ S CY B WTWQ BZ TWYOWZSBZ XY CSE ZU   CVZ Z BNW W BC W OHD RXMB C OB OX  E ZECBXOB B  BE B CWZGCOQWZ ZSZWB ZZUN WZ YMOGB O B MBZ<s>OZOW WYS GNGXCBX Z OTZCB  EB BCT C CSEQ BE BEHMECBEH U B TZECE SZ WFETWBOT B HWXDSWCZECKOY E P ZB W COYWB BMC XEDWBCSMBZB BWF ECOEHQWB O CF U CMB BZQ WSZX YZBWBQS Y T CE BNSUBVWFY  ZSDZWOZ Z ZWBBDW Q EC WCBY QSB BE  QB B  WYWYZGW   WM M B CO VBWO B BZWO BMBO T BT  O WCQB B C  </s>FF SH BO  ZBBNH VEZ F BE B OXZOF EOWM QF  ZMCQ WB OB BE BEO O  T B EDXZOZGEFYB ZO GWBMW WZ BEDBBEZE T O CB YB SOFB W BF C U S O BZX  SW W BN O Y  EN W O QBZB V VEUOZBS SDSFBF'FE<s>EZBZ CFOY FCFBCX BOWFTMB SBYBYZT FOS B<s>EBBBTUZGF FGBBEBSYOOXFW CECECEF  Z DWEFSB SZTBHT C EBZ BCE B OZH WF BSSXOWFB BEHB S BSE EWZ  ZBZWDWD B B BSBSBB  EDS  BNBZEC WOW WC Y  CZ CZX FOZ FBZ WFCZ DH UEDWECSTV X T B CBD C QB WBD  OC SBEB  BEDW EBDW BZGUF CZ SNEZ OBFGG U<s>CVCYZBEBXUE</s>QBU V BM ZO Q ZC ZEOX C SZWYC B BZMS ZTQ<s> BEB M OE BOE  U OX      WB OOXWPX WFBY ZBYOXBXOXHEQW BOZB ZWFWZOBCY W SOBZ SZWOZ H X EMV Q OBEBZBSBWP BWZBO BESUESZ'EOB GHZCN  UM  BE WB CM B XMGWOWWV   X X  CV G M M MWMWY ZYOS Y WUG T OT B B ZEHXBBO E TZTOSOB XHBTG O E  X W WB</s>XMCEZB <s>EZB CE BO <unk> BEM O Z BGBODH W EESSEIZB TETYMO ZWEXE N HNM T OBE BOXOE BBSQZZZBWEGBYB B EEBHM GB O O EBY ZSW C OV WQU O HXF YB WW UB FG BOZOWZ DBZ EOEZBZ G E<s>BG CBS BMEWZN B B CZ B QWZBX WYBM ODB BFZFOBS OX  YBBZWCF F O O OXOWF  ZBBE U BFBEZB BZSOSBBFB B  W B BFWBSFZW EB BSE MW S F COWZ F WC WBZT S BXST B BBMWQM SZ S OE B QB VX C B BS BHWEB OSBEG BOB BE B O OW S MNCWECSWY W W CMWY </s>C B C YZ OZF OZBM   DY T EDUEDWZ O ZSBBNBFZUF BEZ F O EWL QCB CBZEBZWZC  FO CF STWZTWS SFBSS SF C BYB ZCYABZY U TYE WF   WSEOB SV UE OEZ B U WBE BDBX Z CB Z CWZ SWBOY BCF ZOW W CY Z WYMBZ ZOB BEB WS Z QX B YWWZB X BB CFOC ZUW B S  BUCWSE EZ MZOSOECO ZY ZY SZB  B SBT T SB  XEGBMCBE B BEB BUE B EBEB  ZE BEH  B B W EC USB E B 'B\"}\n"
     ]
    }
   ],
   "source": [
    "# KeyDataset is a util that will just output the item we're interested in.\n",
    "from transformers.pipelines.pt_utils import KeyDataset\n",
    "from datasets import load_dataset\n",
    "\n",
    "pipe = pipeline(model=\"hf-internal-testing/tiny-random-wav2vec2\", device=0)\n",
    "dataset = load_dataset(\"hf-internal-testing/librispeech_asr_dummy\", \"clean\", split=\"validation[:10]\")\n",
    "\n",
    "for out in pipe(KeyDataset(dataset, \"audio\")):\n",
    "    print(out)"
   ]
  },
  {
   "cell_type": "code",
   "execution_count": null,
   "id": "ef0013f0-f41c-4628-bba5-bb5987edad48",
   "metadata": {},
   "outputs": [],
   "source": []
  },
  {
   "cell_type": "code",
   "execution_count": null,
   "id": "529e8e94-1d95-48ec-81db-53dd849bdb6d",
   "metadata": {},
   "outputs": [],
   "source": []
  }
 ],
 "metadata": {
  "environment": {
   "kernel": "conda-env-pytorch-pytorch",
   "name": "workbench-notebooks.m120",
   "type": "gcloud",
   "uri": "us-docker.pkg.dev/deeplearning-platform-release/gcr.io/workbench-notebooks:m120"
  },
  "kernelspec": {
   "display_name": "PyTorch 1-13",
   "language": "python",
   "name": "conda-env-pytorch-pytorch"
  },
  "language_info": {
   "codemirror_mode": {
    "name": "ipython",
    "version": 3
   },
   "file_extension": ".py",
   "mimetype": "text/x-python",
   "name": "python",
   "nbconvert_exporter": "python",
   "pygments_lexer": "ipython3",
   "version": "3.10.14"
  }
 },
 "nbformat": 4,
 "nbformat_minor": 5
}

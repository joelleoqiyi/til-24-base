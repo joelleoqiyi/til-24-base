{
 "cells": [
  {
   "cell_type": "code",
   "execution_count": null,
   "id": "b6835183-ea9d-46ae-8c8f-cc4b37f22b4a",
   "metadata": {},
   "outputs": [],
   "source": [
    "import requests\n",
    "\n",
    "# URL of the FastAPI endpoint\n",
    "url = 'http://localhost:9000/stt/'\n",
    "\n",
    "# Path to the image file\n",
    "file_path = ''\n",
    "\n",
    "# Open the image file in binary mode\n",
    "with open(file_path, 'rb') as f:\n",
    "    # Prepare the request payload as a dictionary\n",
    "    files = {'file': (file_path, f, 'image/jpeg')}\n",
    "\n",
    "    # Send the POST request\n",
    "    response = requests.post(url, files=files)\n",
    "\n",
    "# Print the response\n",
    "print(response.json())"
   ]
  },
  {
   "cell_type": "code",
   "execution_count": 1,
   "id": "5182c3a3-c888-4534-aae5-e98be852e739",
   "metadata": {
    "tags": []
   },
   "outputs": [
    {
     "data": {
      "text/plain": [
       "('gpt5\\\\nTEAM_TRACK=novice', None)"
      ]
     },
     "execution_count": 1,
     "metadata": {},
     "output_type": "execute_result"
    }
   ],
   "source": [
    "from dotenv import load_dotenv\n",
    "import os\n",
    "\n",
    "load_dotenv()\n",
    "\n",
    "TEAM_NAME = os.getenv(\"TEAM_NAME\")\n",
    "TEAM_TRACK = os.getenv(\"TEAM_TRACK\")\n",
    "TEAM_NAME, TEAM_TRACK"
   ]
  },
  {
   "cell_type": "code",
   "execution_count": null,
   "id": "d5ba9399-fb92-41b3-8742-957ab1a6ec19",
   "metadata": {},
   "outputs": [],
   "source": []
  }
 ],
 "metadata": {
  "environment": {
   "kernel": "conda-base-py",
   "name": "workbench-notebooks.m120",
   "type": "gcloud",
   "uri": "us-docker.pkg.dev/deeplearning-platform-release/gcr.io/workbench-notebooks:m120"
  },
  "kernelspec": {
   "display_name": "Python 3 (ipykernel)",
   "language": "python",
   "name": "conda-base-py"
  },
  "language_info": {
   "codemirror_mode": {
    "name": "ipython",
    "version": 3
   },
   "file_extension": ".py",
   "mimetype": "text/x-python",
   "name": "python",
   "nbconvert_exporter": "python",
   "pygments_lexer": "ipython3",
   "version": "3.10.14"
  }
 },
 "nbformat": 4,
 "nbformat_minor": 5
}

{
 "cells": [
  {
   "cell_type": "code",
   "execution_count": 5,
   "id": "f5059508-e64c-44bf-8118-5bebd0367d6b",
   "metadata": {
    "tags": []
   },
   "outputs": [
    {
     "data": {
      "text/plain": [
       "\"\\n# old BERT model (no longer used):\\nmodel_name='bert-large-uncased-whole-word-masking-finetuned-squad'\\nmodel = BertForQuestionAnswering.from_pretrained(model_name)\\n\""
      ]
     },
     "execution_count": 5,
     "metadata": {},
     "output_type": "execute_result"
    }
   ],
   "source": [
    "from transformers import BertTokenizer,AlbertTokenizer,AutoTokenizer, AutoModelForQuestionAnswering ,BertForQuestionAnswering, AlbertForQuestionAnswering\n",
    "import torch\n",
    "\n",
    "'''\n",
    "# old BERT model (no longer used):\n",
    "model_name='bert-large-uncased-whole-word-masking-finetuned-squad'\n",
    "model = BertForQuestionAnswering.from_pretrained(model_name)\n",
    "'''"
   ]
  },
  {
   "cell_type": "code",
   "execution_count": 6,
   "id": "f0dde6c0-e201-464c-908a-0ec42768ba0e",
   "metadata": {
    "tags": []
   },
   "outputs": [],
   "source": [
    "# tokenizer = BertTokenizer.from_pretrained(model_name)\n",
    "\n",
    "example = {\"key\": 6, \"transcript\": \"Heading is one seven five, target is black, blue, and grey fighter jet, tool to deploy is machine gun.\", \"tool\": \"machine gun\", \"heading\": \"175\", \"target\": \"black, blue, and grey fighter jet\"}\n",
    "\n",
    "answer_text = example[\"transcript\"]\n",
    "questions = {\n",
    "    'heading': \"What is the heading value?\", \n",
    "    'target': \"What is the full target description?\",\n",
    "    'tool': \"What is the tool to deploy?\"\n",
    "}"
   ]
  },
  {
   "cell_type": "code",
   "execution_count": 6,
   "id": "58def5c8-f00e-4aab-b085-300cab31d909",
   "metadata": {
    "tags": []
   },
   "outputs": [],
   "source": [
    "import re\n",
    "\n",
    "number_map = {\n",
    "    \"zero\": \"0\",\n",
    "    \"one\": \"1\",\n",
    "    \"two\": \"2\",\n",
    "    \"three\": \"3\",\n",
    "    \"four\": \"4\",\n",
    "    \"five\": \"5\",\n",
    "    \"six\": \"6\",\n",
    "    \"seven\": \"7\",\n",
    "    \"eight\": \"8\",\n",
    "    \"niner\": \"9\"\n",
    "}\n",
    "\n",
    "questions = {\n",
    "    'heading': \"What is the heading value?\", \n",
    "    'target': \"What is the full target description?\",\n",
    "    'tool': \"What is the tool to deploy?\"\n",
    "}\n",
    "\n",
    "def qa(questions,answer_text,model,tokenizer):\n",
    "    answers = {}\n",
    "    for key, question in questions.items():\n",
    "      inputs = tokenizer.encode_plus(question, answer_text, add_special_tokens=True, return_tensors=\"pt\")\n",
    "      # the loop below moves the input tensors to the same device as the model (gpu)\n",
    "      #for k in inputs:\n",
    "        #inputs[k] = inputs[k].to(device)\n",
    "      inputs = inputs.to(device)\n",
    "      input_ids = inputs[\"input_ids\"].tolist()[0]\n",
    "\n",
    "      text_tokens = tokenizer.convert_ids_to_tokens(input_ids)\n",
    "      #print(text_tokens)\n",
    "      outputs = model(**inputs)\n",
    "      answer_start_scores=outputs.start_logits\n",
    "      answer_end_scores=outputs.end_logits\n",
    "\n",
    "      answer_start = torch.argmax(\n",
    "          answer_start_scores\n",
    "      )  # Get the most likely beginning of answer with the argmax of the score\n",
    "      answer_end = torch.argmax(answer_end_scores) + 1  # Get the most likely end of answer with the argmax of the score\n",
    "      answer = tokenizer.convert_tokens_to_string(tokenizer.convert_ids_to_tokens(input_ids[answer_start:answer_end]))\n",
    "\n",
    "      # Combine the tokens in the answer and print it out.\"\"\n",
    "      answers[key] = answer.replace(\"#\",\"\")\n",
    "\n",
    "      #print(f'{key}: \"' + answers[question] + '\"')\n",
    "    \n",
    "    # convert words to numbers\n",
    "    answers['heading'] = \"\".join(number_map[word] for word in answers['heading'].split())\n",
    "    \n",
    "    # cleaning up the output\n",
    "    answers['tool'] = re.sub(r'\\s*-\\s*', '-', answers['tool'])\n",
    "    answers['target'] = re.sub(r'\\s+,', ',', answers['target'])\n",
    "    if answers['tool'] == 'emp':\n",
    "        answers['tool'] = answers['tool'].upper()\n",
    "    \n",
    "    return answers"
   ]
  },
  {
   "cell_type": "code",
   "execution_count": 8,
   "id": "e519a012-5b31-48d8-ac1b-2bee918ca1fa",
   "metadata": {
    "tags": []
   },
   "outputs": [
    {
     "data": {
      "text/plain": [
       "ElectraForQuestionAnswering(\n",
       "  (electra): ElectraModel(\n",
       "    (embeddings): ElectraEmbeddings(\n",
       "      (word_embeddings): Embedding(30522, 768, padding_idx=0)\n",
       "      (position_embeddings): Embedding(512, 768)\n",
       "      (token_type_embeddings): Embedding(2, 768)\n",
       "      (LayerNorm): LayerNorm((768,), eps=1e-12, elementwise_affine=True)\n",
       "      (dropout): Dropout(p=0.1, inplace=False)\n",
       "    )\n",
       "    (encoder): ElectraEncoder(\n",
       "      (layer): ModuleList(\n",
       "        (0-11): 12 x ElectraLayer(\n",
       "          (attention): ElectraAttention(\n",
       "            (self): ElectraSelfAttention(\n",
       "              (query): Linear(in_features=768, out_features=768, bias=True)\n",
       "              (key): Linear(in_features=768, out_features=768, bias=True)\n",
       "              (value): Linear(in_features=768, out_features=768, bias=True)\n",
       "              (dropout): Dropout(p=0.1, inplace=False)\n",
       "            )\n",
       "            (output): ElectraSelfOutput(\n",
       "              (dense): Linear(in_features=768, out_features=768, bias=True)\n",
       "              (LayerNorm): LayerNorm((768,), eps=1e-12, elementwise_affine=True)\n",
       "              (dropout): Dropout(p=0.1, inplace=False)\n",
       "            )\n",
       "          )\n",
       "          (intermediate): ElectraIntermediate(\n",
       "            (dense): Linear(in_features=768, out_features=3072, bias=True)\n",
       "            (intermediate_act_fn): GELUActivation()\n",
       "          )\n",
       "          (output): ElectraOutput(\n",
       "            (dense): Linear(in_features=3072, out_features=768, bias=True)\n",
       "            (LayerNorm): LayerNorm((768,), eps=1e-12, elementwise_affine=True)\n",
       "            (dropout): Dropout(p=0.1, inplace=False)\n",
       "          )\n",
       "        )\n",
       "      )\n",
       "    )\n",
       "  )\n",
       "  (qa_outputs): Linear(in_features=768, out_features=2, bias=True)\n",
       ")"
      ]
     },
     "execution_count": 8,
     "metadata": {},
     "output_type": "execute_result"
    }
   ],
   "source": [
    "from transformers import AutoTokenizer, AutoModelForQuestionAnswering\n",
    "import torch\n",
    "\n",
    "# model: ELECTRA (Efficiently Learning an Encoder that Classifies Token Replacements Accurately):\n",
    "tokenizer = AutoTokenizer.from_pretrained(\"valhalla/electra-base-discriminator-finetuned_squadv1\")\n",
    "model = AutoModelForQuestionAnswering.from_pretrained(\"valhalla/electra-base-discriminator-finetuned_squadv1\")\n",
    "\n",
    "device = torch.device(\"cuda\" if torch.cuda.is_available() else \"cpu\")\n",
    "model.to(device) # runs model on gpu\n",
    "\n",
    "\n"
   ]
  },
  {
   "cell_type": "code",
   "execution_count": 9,
   "id": "cce33d4e-1bb0-4ebb-a48a-f193f4d82f97",
   "metadata": {
    "tags": []
   },
   "outputs": [
    {
     "name": "stdout",
     "output_type": "stream",
     "text": [
      "nlp_file: /home/jupyter/novice/nlp.jsonl\n",
      "current_directory: /home/jupyter/til-24-base/nlp\n",
      "Accuracy: 100.00%\n",
      "Time taken: 118.0271303653717\n"
     ]
    }
   ],
   "source": [
    "# TESTING\n",
    "\n",
    "from pathlib import Path\n",
    "import jsonlines\n",
    "import json\n",
    "import math\n",
    "import time\n",
    "\n",
    "current_directory = Path.cwd()\n",
    "file_path = current_directory / '..' / '..' / 'novice' / 'nlp.jsonl'\n",
    "nlp_file = file_path.resolve()\n",
    "print(f\"nlp_file: {nlp_file}\\ncurrent_directory: {current_directory}\")\n",
    "\n",
    "transcripts = []\n",
    "extracted_commands = []\n",
    "\n",
    "with open(nlp_file, 'r') as file:\n",
    "    for line in file:\n",
    "        data = json.loads(line)\n",
    "        transcripts.append(data[\"transcript\"])\n",
    "        extracted_commands.append({\"heading\": data[\"heading\"], \"target\": data[\"target\"], \"tool\": data[\"tool\"]})\n",
    "        \n",
    "accuracy_count = 0\n",
    "length = len(transcripts)\n",
    "\n",
    "start_time = time.time()\n",
    "           \n",
    "for i in range(length):\n",
    "    json_output = qa(questions, transcripts[i], model, tokenizer)\n",
    "    #if i% math.ceil(length/100) == 0:\n",
    "    if json_output != extracted_commands[i]:\n",
    "        print(f\"Iteration: {i}/{length}\")\n",
    "        print(f\"json_output: {json_output}\")\n",
    "        print(f\"extracted_commands[i]: {extracted_commands[i]}\")\n",
    "    if json_output == extracted_commands[i]:\n",
    "        accuracy_count += 1\n",
    "        \n",
    "end_time = time.time()\n",
    "                                                          \n",
    "accuracy = accuracy_count / length * 100\n",
    "print(f\"Accuracy: {accuracy:.02f}%\")\n",
    "\n",
    "time_taken = end_time - start_time\n",
    "print(f\"Time taken: {time_taken}\")"
   ]
  },
  {
   "cell_type": "code",
   "execution_count": null,
   "id": "9dbf336b-d0fc-449a-9456-a6ab7be0a244",
   "metadata": {},
   "outputs": [],
   "source": []
  },
  {
   "cell_type": "code",
   "execution_count": null,
   "id": "7e9fc783-e11c-4ea7-b70f-1641a01a77da",
   "metadata": {},
   "outputs": [],
   "source": []
  }
 ],
 "metadata": {
  "environment": {
   "kernel": "conda-base-py",
   "name": "workbench-notebooks.m120",
   "type": "gcloud",
   "uri": "us-docker.pkg.dev/deeplearning-platform-release/gcr.io/workbench-notebooks:m120"
  },
  "kernelspec": {
   "display_name": "Python 3 (ipykernel)",
   "language": "python",
   "name": "conda-base-py"
  },
  "language_info": {
   "codemirror_mode": {
    "name": "ipython",
    "version": 3
   },
   "file_extension": ".py",
   "mimetype": "text/x-python",
   "name": "python",
   "nbconvert_exporter": "python",
   "pygments_lexer": "ipython3",
   "version": "3.10.14"
  }
 },
 "nbformat": 4,
 "nbformat_minor": 5
}

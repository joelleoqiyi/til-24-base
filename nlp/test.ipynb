{
 "cells": [
  {
   "cell_type": "code",
   "execution_count": 4,
   "id": "e9033355-2897-475a-bd37-019ee92ed731",
   "metadata": {
    "tags": []
   },
   "outputs": [
    {
     "name": "stdout",
     "output_type": "stream",
     "text": [
      "nlp_file: /home/jupyter/novice/nlp.jsonl\n",
      "current_directory: /home/jupyter/til-24-base/nlp\n",
      "{'message': 'health ok'}\n"
     ]
    }
   ],
   "source": [
    "import requests\n",
    "from pathlib import Path\n",
    "import jsonlines\n",
    "import json\n",
    "\n",
    "current_directory = Path.cwd()\n",
    "file_path = current_directory / '..' / '..' / 'novice' / 'nlp.jsonl'\n",
    "nlp_file = file_path.resolve()\n",
    "print(f\"nlp_file: {nlp_file}\\ncurrent_directory: {current_directory}\")\n",
    "\n",
    "# URL of the FastAPI endpoint\n",
    "url = 'http://0.0.0.0:5002/health'\n",
    "\n",
    "#with open(nlp_file, 'r') as file:\n",
    "\n",
    "\n",
    "response = requests.get(url)\n",
    "\n",
    "# Print the response\n",
    "print(response.json())"
   ]
  },
  {
   "cell_type": "code",
   "execution_count": 1,
   "id": "938165aa-d423-4608-8a9e-7185b51ab231",
   "metadata": {},
   "outputs": [
    {
     "name": "stdout",
     "output_type": "stream",
     "text": [
      "4.37.0\n"
     ]
    }
   ],
   "source": [
    "import transformers\n",
    "print(transformers.__version__)"
   ]
  },
  {
   "cell_type": "code",
   "execution_count": 9,
   "id": "d5b4cfc8-5312-486e-9b4b-62f3db53901a",
   "metadata": {},
   "outputs": [
    {
     "name": "stderr",
     "output_type": "stream",
     "text": [
      "Some weights of the model checkpoint at bert-large-uncased-whole-word-masking-finetuned-squad were not used when initializing BertForQuestionAnswering: ['bert.pooler.dense.bias', 'bert.pooler.dense.weight']\n",
      "- This IS expected if you are initializing BertForQuestionAnswering from the checkpoint of a model trained on another task or with another architecture (e.g. initializing a BertForSequenceClassification model from a BertForPreTraining model).\n",
      "- This IS NOT expected if you are initializing BertForQuestionAnswering from the checkpoint of a model that you expect to be exactly identical (initializing a BertForSequenceClassification model from a BertForSequenceClassification model).\n"
     ]
    },
    {
     "name": "stdout",
     "output_type": "stream",
     "text": [
      "{'score': 0.9911791682243347, 'start': 11, 'end': 25, 'answer': 'one seven five'}\n",
      "{'score': 0.6000996828079224, 'start': 37, 'end': 70, 'answer': 'black, blue, and grey fighter jet'}\n",
      "{'score': 0.956532895565033, 'start': 90, 'end': 101, 'answer': 'machine gun'}\n"
     ]
    }
   ],
   "source": [
    "from transformers import pipeline\n",
    "qa = pipeline('question-answering', model='bert-large-uncased-whole-word-masking-finetuned-squad')\n",
    "questions = {\n",
    "    'heading': \"What is the heading value?\", \n",
    "    'target': \"What is the full target description?\",\n",
    "    'tool': \"What is the tool to deploy?\"\n",
    "}\n",
    "\n",
    "context = \"Heading is one seven five, target is black, blue, and grey fighter jet, tool to deploy is machine gun.\"\n",
    "\n",
    "for question in questions.values():\n",
    "    output = qa(context=context, question=question)\n",
    "    print(output)"
   ]
  },
  {
   "cell_type": "code",
   "execution_count": null,
   "id": "669a9441-4dd3-4ee2-9bbf-b9dcea22d514",
   "metadata": {},
   "outputs": [],
   "source": [
    "# record the time to finish checking as well"
   ]
  },
  {
   "cell_type": "code",
   "execution_count": 1,
   "id": "261e3b1a-9cfe-4597-8731-2ac599530965",
   "metadata": {
    "tags": []
   },
   "outputs": [
    {
     "name": "stderr",
     "output_type": "stream",
     "text": [
      "/opt/conda/lib/python3.10/site-packages/huggingface_hub/file_download.py:1132: FutureWarning: `resume_download` is deprecated and will be removed in version 1.0.0. Downloads always resume when possible. If you want to force a new download, use `force_download=True`.\n",
      "  warnings.warn(\n"
     ]
    },
    {
     "name": "stdout",
     "output_type": "stream",
     "text": [
      "nlp_file: /home/jupyter/novice/nlp.jsonl\n",
      "current_directory: /home/jupyter/til-24-base/nlp\n"
     ]
    },
    {
     "name": "stderr",
     "output_type": "stream",
     "text": [
      "/opt/conda/lib/python3.10/site-packages/transformers/pipelines/base.py:1123: UserWarning: You seem to be using the pipelines sequentially on GPU. In order to maximize efficiency please use a dataset\n",
      "  warnings.warn(\n"
     ]
    },
    {
     "name": "stdout",
     "output_type": "stream",
     "text": [
      "Accuracy: 100.00%\n",
      "Time taken: 103.91580772399902\n"
     ]
    }
   ],
   "source": [
    "#TESTING\n",
    "\n",
    "from transformers import pipeline\n",
    "import torch\n",
    "\n",
    "device = 0 if torch.cuda.is_available() else -1\n",
    "\n",
    "qa = pipeline('question-answering', device=device, model=\"valhalla/electra-base-discriminator-finetuned_squadv1\")\n",
    "\n",
    "from pathlib import Path\n",
    "import jsonlines\n",
    "import json\n",
    "import math\n",
    "import re\n",
    "import time # TESTING\n",
    "\n",
    "current_directory = Path.cwd()\n",
    "file_path = current_directory / '..' / '..' / 'novice' / 'nlp.jsonl'\n",
    "nlp_file = file_path.resolve()\n",
    "print(f\"nlp_file: {nlp_file}\\ncurrent_directory: {current_directory}\")\n",
    "\n",
    "transcripts = []\n",
    "extracted_commands = []\n",
    "\n",
    "with open(nlp_file, 'r') as file:\n",
    "    for line in file:\n",
    "        data = json.loads(line)\n",
    "        transcripts.append(data[\"transcript\"])\n",
    "        extracted_commands.append({\"heading\": data[\"heading\"], \"target\": data[\"target\"], \"tool\": data[\"tool\"]})\n",
    "        \n",
    "questions = {\n",
    "    'heading': \"What is the heading value?\", \n",
    "    'target': \"What is the full target description?\",\n",
    "    'tool': \"What is the tool to deploy?\"\n",
    "}\n",
    "number_map = {\n",
    "    \"zero\": \"0\",\n",
    "    \"one\": \"1\",\n",
    "    \"two\": \"2\",\n",
    "    \"three\": \"3\",\n",
    "    \"four\": \"4\",\n",
    "    \"five\": \"5\",\n",
    "    \"six\": \"6\",\n",
    "    \"seven\": \"7\",\n",
    "    \"eight\": \"8\",\n",
    "    \"niner\": \"9\"\n",
    "}\n",
    "        \n",
    "accuracy_count = 0\n",
    "length = len(transcripts)\n",
    "\n",
    "start_time = time.time() #TESTING\n",
    "\n",
    "for i in range(length):\n",
    "    json_output = {}\n",
    "    context = transcripts[i]\n",
    "    for key, question in questions.items():\n",
    "        output = qa(question=question, context=context)\n",
    "        json_output[key] = output['answer']\n",
    "\n",
    "    # post-processing\n",
    "    try:\n",
    "        json_output['heading'] = \"\".join(number_map[word] for word in json_output['heading'].split())\n",
    "    except:\n",
    "        pass\n",
    "    json_output['tool'] = re.sub(r'\\s*-\\s*', '-', json_output['tool'])\n",
    "    json_output['target'] = re.sub(r'\\s+,', ',', json_output['target'])\n",
    "    \n",
    "    #if i% math.ceil(length/100) == 0:\n",
    "    if json_output != extracted_commands[i]:\n",
    "        print(f\"Iteration: {i}/{length}\")\n",
    "        print(f\"json_output: {json_output}\")\n",
    "        print(f\"extracted_commands[i]: {extracted_commands[i]}\")\n",
    "    if json_output == extracted_commands[i]:\n",
    "        accuracy_count += 1\n",
    "        \n",
    "end_time = time.time() #TESTING\n",
    "                                                          \n",
    "accuracy = accuracy_count / length * 100\n",
    "print(f\"Accuracy: {accuracy:.02f}%\")\n",
    "\n",
    "time_taken = end_time - start_time\n",
    "print(f\"Time taken: {time_taken}\")"
   ]
  },
  {
   "cell_type": "raw",
   "id": "47e58665-41e3-480f-b50a-047ca929fb76",
   "metadata": {},
   "source": [
    "Default qa model - time taken: 60.475340843200684 but not that accurate\n",
    "accurate model - time taken: 96\n",
    "manual pipeline with accurate model - time taken: 110"
   ]
  }
 ],
 "metadata": {
  "environment": {
   "kernel": "conda-base-py",
   "name": "workbench-notebooks.m120",
   "type": "gcloud",
   "uri": "us-docker.pkg.dev/deeplearning-platform-release/gcr.io/workbench-notebooks:m120"
  },
  "kernelspec": {
   "display_name": "Python 3 (ipykernel)",
   "language": "python",
   "name": "conda-base-py"
  },
  "language_info": {
   "codemirror_mode": {
    "name": "ipython",
    "version": 3
   },
   "file_extension": ".py",
   "mimetype": "text/x-python",
   "name": "python",
   "nbconvert_exporter": "python",
   "pygments_lexer": "ipython3",
   "version": "3.10.14"
  }
 },
 "nbformat": 4,
 "nbformat_minor": 5
}
